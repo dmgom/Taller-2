{
 "cells": [
  {
   "cell_type": "code",
   "execution_count": 1,
   "id": "77d736d7",
   "metadata": {},
   "outputs": [
    {
     "data": {
      "text/html": [
       "<style>.container { width:100% !important; }</style>"
      ],
      "text/plain": [
       "<IPython.core.display.HTML object>"
      ]
     },
     "metadata": {},
     "output_type": "display_data"
    }
   ],
   "source": [
    "from IPython.display import display, HTML\n",
    "display(HTML(\"<style>.container { width:100% !important; }</style>\"))\n",
    "import numpy as np\n",
    "import matplotlib.pyplot as plt\n",
    "from scipy import integrate\n",
    "import sympy as sym\n",
    "sym.init_printing(use_unicode=True)"
   ]
  },
  {
   "cell_type": "code",
   "execution_count": 19,
   "id": "016650c7",
   "metadata": {},
   "outputs": [],
   "source": [
    "#L=np.zeros(2)\n",
    "\n",
    "#L[1]=8\n",
    "#L\n",
    "def Laguerre(L,m):\n",
    "    polinomio=((2*m-1-x)*L[m-1]-(m-1)*L[m-2])/m\n",
    "    return polinomio"
   ]
  },
  {
   "cell_type": "code",
   "execution_count": 20,
   "id": "85211785",
   "metadata": {},
   "outputs": [],
   "source": [
    "def GetLaguerre(n,x):\n",
    "    #y = (x**2 - 1)**n\n",
    "    x = sym.Symbol('x',real=True)\n",
    "    #y = sym.Symbol('y',real=True)\n",
    "    #L=np.zeros(n)\n",
    "    L=[]\n",
    "    L.append(1)\n",
    "    L.append(1-x)\n",
    "    #L[0]=1\n",
    "    #L[1]=1-x    \n",
    "    for m in range(2,n):\n",
    "        L.append(Laguerre(L,m))\n",
    "        #sym.diff( y,x,n )/(2**n*np.math.factorial(n))\n",
    "    \n",
    "    return L[-1]"
   ]
  },
  {
   "cell_type": "code",
   "execution_count": 39,
   "id": "c735b450",
   "metadata": {
    "scrolled": true
   },
   "outputs": [
    {
     "name": "stdout",
     "output_type": "stream",
     "text": [
      "2*x/3 + (5 - x)*((1 - x)*(3 - x)/2 - 1/2)/3 - 2/3\n",
      "[0, -1, x - 2, -(1 - x)*(3 - x)/6 + (5 - x)*(x - 2)/3 + 5/6]\n"
     ]
    }
   ],
   "source": [
    "x = sym.Symbol('x',real=True)\n",
    "n=4\n",
    "print(GetLaguerre(n,x))\n",
    "DLaguerre=[]\n",
    "L=[]\n",
    "L.append(1)\n",
    "L.append(1-x)\n",
    "for i in range(2,n):\n",
    "    L.append(Laguerre(L,i))\n",
    "for i in range(n):\n",
    "    DLaguerre.append(sym.diff(L[i],x,1))\n",
    "\n",
    "print(DLaguerre)"
   ]
  },
  {
   "cell_type": "code",
   "execution_count": 50,
   "id": "019502f2",
   "metadata": {},
   "outputs": [],
   "source": [
    "\n",
    "\n",
    "#def Derivative(f,x,h=1e-6):\n",
    "#    return (f(x+h)-f(x-h))/(2*h)\n",
    "\n",
    "def GetNewton(f,df,xn,itmax=10000,precision=1e-14):\n",
    "    \n",
    "    error = 1.\n",
    "    it = 0\n",
    "    \n",
    "    while error >= precision and it < itmax:\n",
    "        \n",
    "        try:\n",
    "            \n",
    "            xn1 = xn - f(xn)/df(xn)\n",
    "            \n",
    "            error = np.abs(f(xn)/df(xn))\n",
    "            \n",
    "        except ZeroDivisionError:\n",
    "            print('Zero Division')\n",
    "            \n",
    "        xn = xn1\n",
    "        it += 1\n",
    "        \n",
    "    if it == itmax:\n",
    "        return False\n",
    "    else:\n",
    "        return xn\n",
    "\n",
    "def GetRoots(f,df,x,tolerancia = 14):\n",
    "    \n",
    "    Roots = np.array([])\n",
    "    \n",
    "    for i in x:\n",
    "        \n",
    "        root = GetNewton(f,df,i)\n",
    "        \n",
    "        if root != False:\n",
    "            \n",
    "            croot = np.round( root, tolerancia )\n",
    "            \n",
    "            if croot not in Roots:\n",
    "                Roots = np.append(Roots, croot)\n",
    "                \n",
    "    Roots.sort()\n",
    "    \n",
    "    return Roots\n",
    "\n",
    "def GetAllRoots(n):\n",
    "    xn= np.linspace(0,n+(n-1)*(n)**0.5,100)\n",
    "    x = sym.Symbol('x',real=True)\n",
    "    DLaguerre=[]\n",
    "    L=[]\n",
    "    L.append(1)\n",
    "    L.append(1-x)\n",
    "    for i in range(2,n):\n",
    "        L.append(Laguerre(L,i))\n",
    "    #print(L)\n",
    "    for i in range(n):\n",
    "        DLaguerre.append(sym.diff(L[i],x,1))\n",
    "    \n",
    "    poly = sym.lambdify([x],L[n-1],'numpy')\n",
    "    Dpoly = sym.lambdify([x],DLaguerre[n-1],'numpy')\n",
    "    Roots = GetRoots(poly,Dpoly,xn)\n",
    "    \n",
    "    return Roots\n"
   ]
  },
  {
   "cell_type": "code",
   "execution_count": 51,
   "id": "1ecd4095",
   "metadata": {},
   "outputs": [
    {
     "data": {
      "text/plain": [
       "array([0.41577456, 2.29428036, 6.28994508])"
      ]
     },
     "execution_count": 51,
     "metadata": {},
     "output_type": "execute_result"
    }
   ],
   "source": [
    "#x = np.linspace(0,n+(n-1)*(n)**0.5,100)\n",
    "#Roots1 = GetAllRoots(n,xn,Legendre,DLegendre)\n",
    "Roots = GetAllRoots(n)\n",
    "Roots"
   ]
  },
  {
   "cell_type": "code",
   "execution_count": 57,
   "id": "0e4f2494",
   "metadata": {},
   "outputs": [
    {
     "name": "stdout",
     "output_type": "stream",
     "text": [
      "3\n",
      "0.41577455678348\n",
      "2.29428036027904\n",
      "6.28994508293748\n"
     ]
    },
    {
     "data": {
      "image/png": "[encoded data removed]",
      "text/latex": [
       "$\\displaystyle \\left[ 0.455099526354664, \\  0.178251349484315, \\  0.00664912416101512\\right]$"
      ],
      "text/plain": [
       "[0.4550995263546639, 0.17825134948431504, 0.006649124161015119]"
      ]
     },
     "execution_count": 57,
     "metadata": {},
     "output_type": "execute_result"
    }
   ],
   "source": [
    "def GetWeightsGLag(n):\n",
    "    Roots_=GetAllRoots(n)\n",
    "    x = sym.Symbol('x',real=True)\n",
    "    allck=[]\n",
    "    print(len(Roots_))\n",
    "    L=[]\n",
    "    L.append(1)\n",
    "    L.append(1-x)\n",
    "    for i in range(2,n+1):\n",
    "        L.append(Laguerre(L,i))\n",
    "    Ln_1=sym.lambdify([x],L[n],'numpy')\n",
    "    for xk in Roots_:\n",
    "        print(xk)\n",
    "        ck=xk/(((n+1)**2)*(Ln_1(xk))**2)\n",
    "        \n",
    "        allck.append(ck)\n",
    "    return allck\n",
    "pesos=GetWeightsGLag(n)\n",
    "pesos"
   ]
  },
  {
   "cell_type": "code",
   "execution_count": null,
   "id": "822e84b9",
   "metadata": {},
   "outputs": [],
   "source": []
  }
 ],
 "metadata": {
  "kernelspec": {
   "display_name": "Python 3 (ipykernel)",
   "language": "python",
   "name": "python3"
  },
  "language_info": {
   "codemirror_mode": {
    "name": "ipython",
    "version": 3
   },
   "file_extension": ".py",
   "mimetype": "text/x-python",
   "name": "python",
   "nbconvert_exporter": "python",
   "pygments_lexer": "ipython3",
   "version": "3.11.4"
  }
 },
 "nbformat": 4,
 "nbformat_minor": 5
}
